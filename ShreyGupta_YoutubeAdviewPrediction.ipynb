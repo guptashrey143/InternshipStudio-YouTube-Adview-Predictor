{
  "nbformat": 4,
  "nbformat_minor": 0,
  "metadata": {
    "colab": {
      "name": "ShreyGupta_YoutubeAdviewPrediction.ipynb",
      "provenance": [],
      "include_colab_link": true
    },
    "kernelspec": {
      "name": "python3",
      "display_name": "Python 3"
    }
  },
  "cells": [
    {
      "cell_type": "markdown",
      "metadata": {
        "id": "view-in-github",
        "colab_type": "text"
      },
      "source": [
        "<a href=\"https://colab.research.google.com/github/guptashrey143/InternshipStudio-YouTube-Adview-Predictor/blob/main/ShreyGupta_YoutubeAdviewPrediction.ipynb\" target=\"_parent\"><img src=\"https://colab.research.google.com/assets/colab-badge.svg\" alt=\"Open In Colab\"/></a>"
      ]
    },
    {
      "cell_type": "code",
      "metadata": {
        "id": "WMOZn1RvAjHV"
      },
      "source": [
        "import numpy as np\n",
        "import pandas as pd\n",
        "import matplotlib.pyplot as plt\n",
        "from sklearn.metrics import confusion_matrix\n",
        "from sklearn import preprocessing\n",
        "from sklearn.preprocessing import LabelEncoder\n",
        "import seaborn as sns\n",
        "from sklearn.model_selection import train_test_split\n",
        "from sklearn import linear_model\n",
        "from sklearn import metrics\n",
        "from sklearn.tree import DecisionTreeRegressor\n",
        "from sklearn.ensemble import RandomForestRegressor\n",
        "from sklearn.svm import SVR\n",
        "import keras\n",
        "from keras.layers import Dense\n"
      ],
      "execution_count": null,
      "outputs": []
    },
    {
      "cell_type": "code",
      "metadata": {
        "id": "BaVOvTdX-zUX"
      },
      "source": [
        "dataset = pd.read_csv('train.csv')\n"
      ],
      "execution_count": null,
      "outputs": []
    },
    {
      "cell_type": "code",
      "metadata": {
        "id": "a1fx9v_phQXJ",
        "colab": {
          "base_uri": "https://localhost:8080/",
          "height": 419
        },
        "outputId": "f34c9ea8-95e5-4cee-f6fe-1448b30bf2b6"
      },
      "source": [
        "numerical_category_map = {'A':1, 'B':2, 'C':3, 'D':4, 'E':5, 'F':6, 'G':7, 'H':8}\n",
        "dataset['category'] = dataset['category'].map(numerical_category_map)\n",
        "dataset"
      ],
      "execution_count": null,
      "outputs": [
        {
          "output_type": "execute_result",
          "data": {
            "text/html": [
              "<div>\n",
              "<style scoped>\n",
              "    .dataframe tbody tr th:only-of-type {\n",
              "        vertical-align: middle;\n",
              "    }\n",
              "\n",
              "    .dataframe tbody tr th {\n",
              "        vertical-align: top;\n",
              "    }\n",
              "\n",
              "    .dataframe thead th {\n",
              "        text-align: right;\n",
              "    }\n",
              "</style>\n",
              "<table border=\"1\" class=\"dataframe\">\n",
              "  <thead>\n",
              "    <tr style=\"text-align: right;\">\n",
              "      <th></th>\n",
              "      <th>vidid</th>\n",
              "      <th>adview</th>\n",
              "      <th>views</th>\n",
              "      <th>likes</th>\n",
              "      <th>dislikes</th>\n",
              "      <th>comment</th>\n",
              "      <th>published</th>\n",
              "      <th>duration</th>\n",
              "      <th>category</th>\n",
              "    </tr>\n",
              "  </thead>\n",
              "  <tbody>\n",
              "    <tr>\n",
              "      <th>0</th>\n",
              "      <td>VID_18655</td>\n",
              "      <td>40</td>\n",
              "      <td>1031602</td>\n",
              "      <td>8523</td>\n",
              "      <td>363</td>\n",
              "      <td>1095</td>\n",
              "      <td>2016-09-14</td>\n",
              "      <td>PT7M37S</td>\n",
              "      <td>6</td>\n",
              "    </tr>\n",
              "    <tr>\n",
              "      <th>1</th>\n",
              "      <td>VID_14135</td>\n",
              "      <td>2</td>\n",
              "      <td>1707</td>\n",
              "      <td>56</td>\n",
              "      <td>2</td>\n",
              "      <td>6</td>\n",
              "      <td>2016-10-01</td>\n",
              "      <td>PT9M30S</td>\n",
              "      <td>4</td>\n",
              "    </tr>\n",
              "    <tr>\n",
              "      <th>2</th>\n",
              "      <td>VID_2187</td>\n",
              "      <td>1</td>\n",
              "      <td>2023</td>\n",
              "      <td>25</td>\n",
              "      <td>0</td>\n",
              "      <td>2</td>\n",
              "      <td>2016-07-02</td>\n",
              "      <td>PT2M16S</td>\n",
              "      <td>3</td>\n",
              "    </tr>\n",
              "    <tr>\n",
              "      <th>3</th>\n",
              "      <td>VID_23096</td>\n",
              "      <td>6</td>\n",
              "      <td>620860</td>\n",
              "      <td>777</td>\n",
              "      <td>161</td>\n",
              "      <td>153</td>\n",
              "      <td>2016-07-27</td>\n",
              "      <td>PT4M22S</td>\n",
              "      <td>8</td>\n",
              "    </tr>\n",
              "    <tr>\n",
              "      <th>4</th>\n",
              "      <td>VID_10175</td>\n",
              "      <td>1</td>\n",
              "      <td>666</td>\n",
              "      <td>1</td>\n",
              "      <td>0</td>\n",
              "      <td>0</td>\n",
              "      <td>2016-06-29</td>\n",
              "      <td>PT31S</td>\n",
              "      <td>4</td>\n",
              "    </tr>\n",
              "    <tr>\n",
              "      <th>...</th>\n",
              "      <td>...</td>\n",
              "      <td>...</td>\n",
              "      <td>...</td>\n",
              "      <td>...</td>\n",
              "      <td>...</td>\n",
              "      <td>...</td>\n",
              "      <td>...</td>\n",
              "      <td>...</td>\n",
              "      <td>...</td>\n",
              "    </tr>\n",
              "    <tr>\n",
              "      <th>14994</th>\n",
              "      <td>VID_31</td>\n",
              "      <td>2</td>\n",
              "      <td>525949</td>\n",
              "      <td>1137</td>\n",
              "      <td>83</td>\n",
              "      <td>86</td>\n",
              "      <td>2015-05-18</td>\n",
              "      <td>PT6M10S</td>\n",
              "      <td>1</td>\n",
              "    </tr>\n",
              "    <tr>\n",
              "      <th>14995</th>\n",
              "      <td>VID_5861</td>\n",
              "      <td>1</td>\n",
              "      <td>665673</td>\n",
              "      <td>3849</td>\n",
              "      <td>156</td>\n",
              "      <td>569</td>\n",
              "      <td>2015-10-20</td>\n",
              "      <td>PT3M56S</td>\n",
              "      <td>4</td>\n",
              "    </tr>\n",
              "    <tr>\n",
              "      <th>14996</th>\n",
              "      <td>VID_805</td>\n",
              "      <td>4</td>\n",
              "      <td>3479</td>\n",
              "      <td>16</td>\n",
              "      <td>1</td>\n",
              "      <td>1</td>\n",
              "      <td>2013-08-23</td>\n",
              "      <td>PT3M13S</td>\n",
              "      <td>2</td>\n",
              "    </tr>\n",
              "    <tr>\n",
              "      <th>14997</th>\n",
              "      <td>VID_19843</td>\n",
              "      <td>1</td>\n",
              "      <td>963</td>\n",
              "      <td>0</td>\n",
              "      <td>0</td>\n",
              "      <td>0</td>\n",
              "      <td>2010-10-02</td>\n",
              "      <td>PT26S</td>\n",
              "      <td>7</td>\n",
              "    </tr>\n",
              "    <tr>\n",
              "      <th>14998</th>\n",
              "      <td>VID_8534</td>\n",
              "      <td>1</td>\n",
              "      <td>15212</td>\n",
              "      <td>22</td>\n",
              "      <td>5</td>\n",
              "      <td>4</td>\n",
              "      <td>2016-02-19</td>\n",
              "      <td>PT1M1S</td>\n",
              "      <td>4</td>\n",
              "    </tr>\n",
              "  </tbody>\n",
              "</table>\n",
              "<p>14999 rows × 9 columns</p>\n",
              "</div>"
            ],
            "text/plain": [
              "           vidid  adview    views likes  ... comment   published duration category\n",
              "0      VID_18655      40  1031602  8523  ...    1095  2016-09-14  PT7M37S        6\n",
              "1      VID_14135       2     1707    56  ...       6  2016-10-01  PT9M30S        4\n",
              "2       VID_2187       1     2023    25  ...       2  2016-07-02  PT2M16S        3\n",
              "3      VID_23096       6   620860   777  ...     153  2016-07-27  PT4M22S        8\n",
              "4      VID_10175       1      666     1  ...       0  2016-06-29    PT31S        4\n",
              "...          ...     ...      ...   ...  ...     ...         ...      ...      ...\n",
              "14994     VID_31       2   525949  1137  ...      86  2015-05-18  PT6M10S        1\n",
              "14995   VID_5861       1   665673  3849  ...     569  2015-10-20  PT3M56S        4\n",
              "14996    VID_805       4     3479    16  ...       1  2013-08-23  PT3M13S        2\n",
              "14997  VID_19843       1      963     0  ...       0  2010-10-02    PT26S        7\n",
              "14998   VID_8534       1    15212    22  ...       4  2016-02-19   PT1M1S        4\n",
              "\n",
              "[14999 rows x 9 columns]"
            ]
          },
          "metadata": {
            "tags": []
          },
          "execution_count": 4
        }
      ]
    },
    {
      "cell_type": "code",
      "metadata": {
        "id": "u7Zh6FwMDewz",
        "colab": {
          "base_uri": "https://localhost:8080/",
          "height": 187
        },
        "outputId": "1c797b14-7cb7-4e65-f748-01c1ba3fbb41"
      },
      "source": [
        "dataset.dtypes\n",
        "\n"
      ],
      "execution_count": null,
      "outputs": [
        {
          "output_type": "execute_result",
          "data": {
            "text/plain": [
              "vidid        object\n",
              "adview        int64\n",
              "views        object\n",
              "likes        object\n",
              "dislikes     object\n",
              "comment      object\n",
              "published    object\n",
              "duration     object\n",
              "category      int64\n",
              "dtype: object"
            ]
          },
          "metadata": {
            "tags": []
          },
          "execution_count": 5
        }
      ]
    },
    {
      "cell_type": "code",
      "metadata": {
        "id": "jq64V0YD4w5j"
      },
      "source": [
        ""
      ],
      "execution_count": null,
      "outputs": []
    },
    {
      "cell_type": "code",
      "metadata": {
        "id": "O_uNxBdd9W4W",
        "colab": {
          "base_uri": "https://localhost:8080/",
          "height": 34
        },
        "outputId": "2bf5bd35-cc34-43b8-de9e-66b97d2f5508"
      },
      "source": [
        "dataset.shape"
      ],
      "execution_count": null,
      "outputs": [
        {
          "output_type": "execute_result",
          "data": {
            "text/plain": [
              "(14999, 9)"
            ]
          },
          "metadata": {
            "tags": []
          },
          "execution_count": 6
        }
      ]
    },
    {
      "cell_type": "code",
      "metadata": {
        "id": "s9hfyjxCl7MJ",
        "colab": {
          "base_uri": "https://localhost:8080/",
          "height": 187
        },
        "outputId": "9409f570-d7ee-400e-d7e1-a72a85049097"
      },
      "source": [
        "dataset.isnull().any()"
      ],
      "execution_count": null,
      "outputs": [
        {
          "output_type": "execute_result",
          "data": {
            "text/plain": [
              "vidid        False\n",
              "adview       False\n",
              "views        False\n",
              "likes        False\n",
              "dislikes     False\n",
              "comment      False\n",
              "published    False\n",
              "duration     False\n",
              "category     False\n",
              "dtype: bool"
            ]
          },
          "metadata": {
            "tags": []
          },
          "execution_count": 7
        }
      ]
    },
    {
      "cell_type": "code",
      "metadata": {
        "id": "JOQG7adoPD4_"
      },
      "source": [
        "dataset = dataset[dataset.views != 'F']\n",
        "dataset = dataset[dataset.comment != 'F']\n",
        "dataset = dataset[dataset.likes != 'F']\n",
        "dataset = dataset[dataset.dislikes != 'F']"
      ],
      "execution_count": null,
      "outputs": []
    },
    {
      "cell_type": "code",
      "metadata": {
        "id": "6QECvFVXTVKQ"
      },
      "source": [
        "dataset['views'] = pd.to_numeric(dataset['views'])\n",
        "dataset['likes'] = pd.to_numeric(dataset['likes'])\n",
        "dataset['dislikes'] = pd.to_numeric(dataset['dislikes'])\n",
        "dataset['comment'] = pd.to_numeric(dataset['comment'])\n"
      ],
      "execution_count": null,
      "outputs": []
    },
    {
      "cell_type": "code",
      "metadata": {
        "id": "MiZjZxMZcEig",
        "colab": {
          "base_uri": "https://localhost:8080/",
          "height": 34
        },
        "outputId": "e92bcf4a-5950-46e9-d924-a4337d73b6ae"
      },
      "source": [
        "# After prreprocessing our data looks like:\n",
        "\n",
        "dataset.shape"
      ],
      "execution_count": null,
      "outputs": [
        {
          "output_type": "execute_result",
          "data": {
            "text/plain": [
              "(14637, 9)"
            ]
          },
          "metadata": {
            "tags": []
          },
          "execution_count": 10
        }
      ]
    },
    {
      "cell_type": "code",
      "metadata": {
        "id": "4q04lx4WcQpm",
        "colab": {
          "base_uri": "https://localhost:8080/",
          "height": 187
        },
        "outputId": "415b2259-04dc-4723-c2e3-43af338d9f7a"
      },
      "source": [
        "dataset.dtypes  "
      ],
      "execution_count": null,
      "outputs": [
        {
          "output_type": "execute_result",
          "data": {
            "text/plain": [
              "vidid        object\n",
              "adview        int64\n",
              "views         int64\n",
              "likes         int64\n",
              "dislikes      int64\n",
              "comment       int64\n",
              "published    object\n",
              "duration     object\n",
              "category      int64\n",
              "dtype: object"
            ]
          },
          "metadata": {
            "tags": []
          },
          "execution_count": 11
        }
      ]
    },
    {
      "cell_type": "code",
      "metadata": {
        "id": "nQqu72UCfqla"
      },
      "source": [
        "dataset['duration'] = LabelEncoder().fit_transform(dataset['duration'])\n",
        "dataset['published'] = LabelEncoder().fit_transform(dataset['published'])\n",
        "dataset['vidid'] = LabelEncoder().fit_transform(dataset['vidid'])"
      ],
      "execution_count": null,
      "outputs": []
    },
    {
      "cell_type": "code",
      "metadata": {
        "id": "Y6hdn3xmgRK3",
        "colab": {
          "base_uri": "https://localhost:8080/",
          "height": 204
        },
        "outputId": "742aeee1-1f72-40f7-dc9d-1fa3b1b9f294"
      },
      "source": [
        "dataset.head()\n"
      ],
      "execution_count": null,
      "outputs": [
        {
          "output_type": "execute_result",
          "data": {
            "text/html": [
              "<div>\n",
              "<style scoped>\n",
              "    .dataframe tbody tr th:only-of-type {\n",
              "        vertical-align: middle;\n",
              "    }\n",
              "\n",
              "    .dataframe tbody tr th {\n",
              "        vertical-align: top;\n",
              "    }\n",
              "\n",
              "    .dataframe thead th {\n",
              "        text-align: right;\n",
              "    }\n",
              "</style>\n",
              "<table border=\"1\" class=\"dataframe\">\n",
              "  <thead>\n",
              "    <tr style=\"text-align: right;\">\n",
              "      <th></th>\n",
              "      <th>vidid</th>\n",
              "      <th>adview</th>\n",
              "      <th>views</th>\n",
              "      <th>likes</th>\n",
              "      <th>dislikes</th>\n",
              "      <th>comment</th>\n",
              "      <th>published</th>\n",
              "      <th>duration</th>\n",
              "      <th>category</th>\n",
              "    </tr>\n",
              "  </thead>\n",
              "  <tbody>\n",
              "    <tr>\n",
              "      <th>0</th>\n",
              "      <td>5912</td>\n",
              "      <td>40</td>\n",
              "      <td>1031602</td>\n",
              "      <td>8523</td>\n",
              "      <td>363</td>\n",
              "      <td>1095</td>\n",
              "      <td>2168</td>\n",
              "      <td>2925</td>\n",
              "      <td>6</td>\n",
              "    </tr>\n",
              "    <tr>\n",
              "      <th>1</th>\n",
              "      <td>2741</td>\n",
              "      <td>2</td>\n",
              "      <td>1707</td>\n",
              "      <td>56</td>\n",
              "      <td>2</td>\n",
              "      <td>6</td>\n",
              "      <td>2185</td>\n",
              "      <td>3040</td>\n",
              "      <td>4</td>\n",
              "    </tr>\n",
              "    <tr>\n",
              "      <th>2</th>\n",
              "      <td>8138</td>\n",
              "      <td>1</td>\n",
              "      <td>2023</td>\n",
              "      <td>25</td>\n",
              "      <td>0</td>\n",
              "      <td>2</td>\n",
              "      <td>2094</td>\n",
              "      <td>1863</td>\n",
              "      <td>3</td>\n",
              "    </tr>\n",
              "    <tr>\n",
              "      <th>3</th>\n",
              "      <td>9005</td>\n",
              "      <td>6</td>\n",
              "      <td>620860</td>\n",
              "      <td>777</td>\n",
              "      <td>161</td>\n",
              "      <td>153</td>\n",
              "      <td>2119</td>\n",
              "      <td>2546</td>\n",
              "      <td>8</td>\n",
              "    </tr>\n",
              "    <tr>\n",
              "      <th>4</th>\n",
              "      <td>122</td>\n",
              "      <td>1</td>\n",
              "      <td>666</td>\n",
              "      <td>1</td>\n",
              "      <td>0</td>\n",
              "      <td>0</td>\n",
              "      <td>2091</td>\n",
              "      <td>1963</td>\n",
              "      <td>4</td>\n",
              "    </tr>\n",
              "  </tbody>\n",
              "</table>\n",
              "</div>"
            ],
            "text/plain": [
              "   vidid  adview    views  likes  ...  comment  published  duration  category\n",
              "0   5912      40  1031602   8523  ...     1095       2168      2925         6\n",
              "1   2741       2     1707     56  ...        6       2185      3040         4\n",
              "2   8138       1     2023     25  ...        2       2094      1863         3\n",
              "3   9005       6   620860    777  ...      153       2119      2546         8\n",
              "4    122       1      666      1  ...        0       2091      1963         4\n",
              "\n",
              "[5 rows x 9 columns]"
            ]
          },
          "metadata": {
            "tags": []
          },
          "execution_count": 13
        }
      ]
    },
    {
      "cell_type": "code",
      "metadata": {
        "id": "2kxdyEGehQsx",
        "colab": {
          "base_uri": "https://localhost:8080/",
          "height": 204
        },
        "outputId": "bbcb594c-5a3c-4a74-f2e0-e262e8971772"
      },
      "source": [
        "import datetime\n",
        "import time\n",
        "\n",
        "\n",
        "def checki(x):\n",
        "  y = x[2:]\n",
        "  h = ''\n",
        "  m = ''\n",
        "  s = ''\n",
        "  mm = ''\n",
        "  P = ['H','M','S']\n",
        "  for i in y:\n",
        "   if i not in P:\n",
        "      mm+=i\n",
        "  else:\n",
        "    if(i==\"H\"):\n",
        "      h = mm\n",
        "      mm = ''\n",
        "    elif(i == \"M\"):\n",
        "      m = mm\n",
        "      mm = ''\n",
        "    else:\n",
        "      s = mm\n",
        "      mm = ''\n",
        "  if(h==''):\n",
        "      h = '00'\n",
        "  if(m == ''):\n",
        "    m = '00'\n",
        "  if(s==''):\n",
        "    s='00'\n",
        "  bp = h+':'+m+':'+s\n",
        "  return bp\n",
        "train=pd.read_csv(\"train.csv\")\n",
        "mp = pd.read_csv(\"train.csv\")[\"duration\"]\n",
        "time = mp.apply(checki)\n",
        "def func_sec(time_string):\n",
        "  h, m, s = time_string.split(':')\n",
        "  return int(h) * 3600 + int(m) * 60 + int(s)\n",
        "time1=time.apply(func_sec)\n",
        "dataset[\"duration\"]=time1\n",
        "dataset.head()"
      ],
      "execution_count": null,
      "outputs": [
        {
          "output_type": "execute_result",
          "data": {
            "text/html": [
              "<div>\n",
              "<style scoped>\n",
              "    .dataframe tbody tr th:only-of-type {\n",
              "        vertical-align: middle;\n",
              "    }\n",
              "\n",
              "    .dataframe tbody tr th {\n",
              "        vertical-align: top;\n",
              "    }\n",
              "\n",
              "    .dataframe thead th {\n",
              "        text-align: right;\n",
              "    }\n",
              "</style>\n",
              "<table border=\"1\" class=\"dataframe\">\n",
              "  <thead>\n",
              "    <tr style=\"text-align: right;\">\n",
              "      <th></th>\n",
              "      <th>vidid</th>\n",
              "      <th>adview</th>\n",
              "      <th>views</th>\n",
              "      <th>likes</th>\n",
              "      <th>dislikes</th>\n",
              "      <th>comment</th>\n",
              "      <th>published</th>\n",
              "      <th>duration</th>\n",
              "      <th>category</th>\n",
              "    </tr>\n",
              "  </thead>\n",
              "  <tbody>\n",
              "    <tr>\n",
              "      <th>0</th>\n",
              "      <td>5912</td>\n",
              "      <td>40</td>\n",
              "      <td>1031602</td>\n",
              "      <td>8523</td>\n",
              "      <td>363</td>\n",
              "      <td>1095</td>\n",
              "      <td>2168</td>\n",
              "      <td>737</td>\n",
              "      <td>6</td>\n",
              "    </tr>\n",
              "    <tr>\n",
              "      <th>1</th>\n",
              "      <td>2741</td>\n",
              "      <td>2</td>\n",
              "      <td>1707</td>\n",
              "      <td>56</td>\n",
              "      <td>2</td>\n",
              "      <td>6</td>\n",
              "      <td>2185</td>\n",
              "      <td>930</td>\n",
              "      <td>4</td>\n",
              "    </tr>\n",
              "    <tr>\n",
              "      <th>2</th>\n",
              "      <td>8138</td>\n",
              "      <td>1</td>\n",
              "      <td>2023</td>\n",
              "      <td>25</td>\n",
              "      <td>0</td>\n",
              "      <td>2</td>\n",
              "      <td>2094</td>\n",
              "      <td>216</td>\n",
              "      <td>3</td>\n",
              "    </tr>\n",
              "    <tr>\n",
              "      <th>3</th>\n",
              "      <td>9005</td>\n",
              "      <td>6</td>\n",
              "      <td>620860</td>\n",
              "      <td>777</td>\n",
              "      <td>161</td>\n",
              "      <td>153</td>\n",
              "      <td>2119</td>\n",
              "      <td>422</td>\n",
              "      <td>8</td>\n",
              "    </tr>\n",
              "    <tr>\n",
              "      <th>4</th>\n",
              "      <td>122</td>\n",
              "      <td>1</td>\n",
              "      <td>666</td>\n",
              "      <td>1</td>\n",
              "      <td>0</td>\n",
              "      <td>0</td>\n",
              "      <td>2091</td>\n",
              "      <td>31</td>\n",
              "      <td>4</td>\n",
              "    </tr>\n",
              "  </tbody>\n",
              "</table>\n",
              "</div>"
            ],
            "text/plain": [
              "   vidid  adview    views  likes  ...  comment  published  duration  category\n",
              "0   5912      40  1031602   8523  ...     1095       2168       737         6\n",
              "1   2741       2     1707     56  ...        6       2185       930         4\n",
              "2   8138       1     2023     25  ...        2       2094       216         3\n",
              "3   9005       6   620860    777  ...      153       2119       422         8\n",
              "4    122       1      666      1  ...        0       2091        31         4\n",
              "\n",
              "[5 rows x 9 columns]"
            ]
          },
          "metadata": {
            "tags": []
          },
          "execution_count": 14
        }
      ]
    },
    {
      "cell_type": "code",
      "metadata": {
        "id": "8TcA4muzrTky",
        "colab": {
          "base_uri": "https://localhost:8080/",
          "height": 282
        },
        "outputId": "54b9d823-996f-42cf-f63f-9e5490d4c660"
      },
      "source": [
        "plt.hist(dataset['category'], color = 'green', label = 'category')\n",
        "plt.legend()\n",
        "plt.show\n"
      ],
      "execution_count": null,
      "outputs": [
        {
          "output_type": "execute_result",
          "data": {
            "text/plain": [
              "<function matplotlib.pyplot.show>"
            ]
          },
          "metadata": {
            "tags": []
          },
          "execution_count": 15
        },
        {
          "output_type": "display_data",
          "data": {
            "image/png": "[encoded data removed]",
            "text/plain": [
              "<Figure size 432x288 with 1 Axes>"
            ]
          },
          "metadata": {
            "tags": [],
            "needs_background": "light"
          }
        }
      ]
    },
    {
      "cell_type": "code",
      "metadata": {
        "id": "Oa92nMnT7AfF",
        "colab": {
          "base_uri": "https://localhost:8080/",
          "height": 276
        },
        "outputId": "7e269999-6aae-4ca3-bca8-60ccaade13f0"
      },
      "source": [
        "plt.plot(dataset['adview'], color = 'blue', label = 'adview')\n",
        "plt.legend()\n",
        "plt.show()\n"
      ],
      "execution_count": null,
      "outputs": [
        {
          "output_type": "display_data",
          "data": {
            "image/png": "[encoded data removed]",
            "text/plain": [
              "<Figure size 432x288 with 1 Axes>"
            ]
          },
          "metadata": {
            "tags": [],
            "needs_background": "light"
          }
        }
      ]
    },
    {
      "cell_type": "markdown",
      "metadata": {
        "id": "hZYPLiFU8MVz"
      },
      "source": [
        "As we can see in the above plot there exists an adview value going above 5 million \n",
        "therefore we will be removing all the adview values higher than 1.5 million as outliers"
      ]
    },
    {
      "cell_type": "code",
      "metadata": {
        "id": "HX_Gk7E88KD4"
      },
      "source": [
        "dataset = dataset[dataset['adview'] < 1500000]"
      ],
      "execution_count": null,
      "outputs": []
    },
    {
      "cell_type": "code",
      "metadata": {
        "id": "E18Fpk1X8oyV",
        "colab": {
          "base_uri": "https://localhost:8080/",
          "height": 276
        },
        "outputId": "22f63341-acae-4934-9991-c99a88885659"
      },
      "source": [
        "plt.plot(dataset['adview'], color = 'blue', label = 'adview')\n",
        "plt.legend()\n",
        "plt.show()"
      ],
      "execution_count": null,
      "outputs": [
        {
          "output_type": "display_data",
          "data": {
            "image/png": "[encoded data removed]",
            "text/plain": [
              "<Figure size 432x288 with 1 Axes>"
            ]
          },
          "metadata": {
            "tags": [],
            "needs_background": "light"
          }
        }
      ]
    },
    {
      "cell_type": "code",
      "metadata": {
        "id": "emY-tYnYtWas",
        "colab": {
          "base_uri": "https://localhost:8080/",
          "height": 554
        },
        "outputId": "1aba94be-852d-4ac8-9353-a788ef972d90"
      },
      "source": [
        "from pandas.plotting import scatter_matrix\n",
        "corrmat = dataset.corr()\n",
        "plt.subplots(figsize=(12,9))\n",
        "mask = np.zeros_like(corrmat,dtype = np.bool)\n",
        "mask[np.triu_indices_from(mask)] = True\n",
        "sns.heatmap(corrmat,vmax = 0.9,square = True,annot = True, mask = mask, cbar_kws={'shrink': .5})\n"
      ],
      "execution_count": null,
      "outputs": [
        {
          "output_type": "execute_result",
          "data": {
            "text/plain": [
              "<matplotlib.axes._subplots.AxesSubplot at 0x7f8bb1c27fd0>"
            ]
          },
          "metadata": {
            "tags": []
          },
          "execution_count": 19
        },
        {
          "output_type": "display_data",
          "data": {
            "image/png": "[encoded data removed]",
            "text/plain": [
              "<Figure size 864x648 with 2 Axes>"
            ]
          },
          "metadata": {
            "tags": [],
            "needs_background": "light"
          }
        }
      ]
    },
    {
      "cell_type": "code",
      "metadata": {
        "id": "pCixdMZ4rUc9",
        "colab": {
          "base_uri": "https://localhost:8080/",
          "height": 153
        },
        "outputId": "998db8bb-f9cf-474f-98f9-c7eea4da1fcb"
      },
      "source": [
        "# Allocating data\n",
        "\n",
        "\n",
        "X = dataset.iloc[:, 2:].values\n",
        "Y = dataset.iloc[:, 1].values\n",
        "\n",
        "X,Y"
      ],
      "execution_count": null,
      "outputs": [
        {
          "output_type": "execute_result",
          "data": {
            "text/plain": [
              "(array([[1031602,    8523,     363, ...,    2168,     737,       6],\n",
              "        [   1707,      56,       2, ...,    2185,     930,       4],\n",
              "        [   2023,      25,       0, ...,    2094,     216,       3],\n",
              "        ...,\n",
              "        [   3479,      16,       1, ...,    1053,     313,       2],\n",
              "        [    963,       0,       0, ...,     222,      26,       7],\n",
              "        [  15212,      22,       5, ...,    1960,      11,       4]]),\n",
              " array([40,  2,  1, ...,  4,  1,  1]))"
            ]
          },
          "metadata": {
            "tags": []
          },
          "execution_count": 20
        }
      ]
    },
    {
      "cell_type": "code",
      "metadata": {
        "id": "rSFW35QnvH2s",
        "colab": {
          "base_uri": "https://localhost:8080/",
          "height": 34
        },
        "outputId": "ee9b32a4-ee05-4a70-a3bf-fdf73c8dfe8a"
      },
      "source": [
        "x_train, x_test, y_train, y_test = train_test_split(X,Y, test_size = 0.1, random_state = 0)\n",
        "\n",
        "x_train.shape, y_train.shape"
      ],
      "execution_count": null,
      "outputs": [
        {
          "output_type": "execute_result",
          "data": {
            "text/plain": [
              "((13171, 7), (13171,))"
            ]
          },
          "metadata": {
            "tags": []
          },
          "execution_count": 21
        }
      ]
    },
    {
      "cell_type": "code",
      "metadata": {
        "id": "QwtBOXZ0Hv68"
      },
      "source": [
        "from sklearn.preprocessing import MinMaxScaler\n",
        "\n",
        "\n",
        "scaler = MinMaxScaler()\n",
        "x_train = scaler.fit_transform(x_train)\n",
        "x_test = scaler.fit_transform(x_test)"
      ],
      "execution_count": null,
      "outputs": []
    },
    {
      "cell_type": "code",
      "metadata": {
        "id": "8lZ_mynOLMqk",
        "colab": {
          "base_uri": "https://localhost:8080/",
          "height": 68
        },
        "outputId": "47dded12-b46b-4f82-ad81-fde2a5be02d1"
      },
      "source": [
        "#Linear Regression\n",
        "\n",
        "LR = linear_model.LinearRegression()\n",
        "model1 = LR.fit(x_train, y_train)\n",
        "\n",
        "y_pred_LR = model1.predict(x_test)\n",
        "\n",
        "\n",
        "print(metrics.mean_absolute_error(y_test,y_pred_LR))\n",
        "print(np.sqrt(metrics.mean_squared_error(y_test,y_pred_LR)))\n",
        "print(metrics.mean_squared_error(y_test,y_pred_LR))"
      ],
      "execution_count": null,
      "outputs": [
        {
          "output_type": "stream",
          "text": [
            "3597.373301578461\n",
            "23485.625479632225\n",
            "551574604.1695503\n"
          ],
          "name": "stdout"
        }
      ]
    },
    {
      "cell_type": "code",
      "metadata": {
        "id": "i14qit6QVqFn",
        "colab": {
          "base_uri": "https://localhost:8080/",
          "height": 68
        },
        "outputId": "740145d9-a66f-47ba-deab-9309115d77af"
      },
      "source": [
        "# Decision Tree Regressor\n",
        "\n",
        "DTR = DecisionTreeRegressor()\n",
        "model2 = DTR.fit(x_train, y_train)\n",
        "\n",
        "y_pred_DTR = model2.predict(x_test)\n",
        "\n",
        "\n",
        "print(metrics.mean_absolute_error(y_test,y_pred_DTR))\n",
        "print(np.sqrt(metrics.mean_squared_error(y_test,y_pred_DTR)))\n",
        "print(metrics.mean_squared_error(y_test,y_pred_DTR))"
      ],
      "execution_count": null,
      "outputs": [
        {
          "output_type": "stream",
          "text": [
            "8728.984289617487\n",
            "69674.87836333866\n",
            "4854588674.946038\n"
          ],
          "name": "stdout"
        }
      ]
    },
    {
      "cell_type": "code",
      "metadata": {
        "id": "ZGiCtO6ncjvM",
        "colab": {
          "base_uri": "https://localhost:8080/",
          "height": 68
        },
        "outputId": "63ffd21a-d851-4172-abe6-0223f27ef0dd"
      },
      "source": [
        "# Random Forest Regression\n",
        "\n",
        "n_estimators = 200\n",
        "md = 30\n",
        "min_samples_split = 35\n",
        "min_samples_leaf = 10\n",
        "\n",
        "RFR = RandomForestRegressor(n_estimators = n_estimators, max_depth = md, min_samples_split = min_samples_split, min_samples_leaf = min_samples_leaf)\n",
        "model3 = RFR.fit(x_train,y_train)\n",
        "\n",
        "y_pred_RFR = model3.predict(x_test)\n",
        "\n",
        "\n",
        "print(metrics.mean_absolute_error(y_test,y_pred_RFR))\n",
        "print(np.sqrt(metrics.mean_squared_error(y_test,y_pred_RFR)))\n",
        "print(metrics.mean_squared_error(y_test,y_pred_RFR))"
      ],
      "execution_count": null,
      "outputs": [
        {
          "output_type": "stream",
          "text": [
            "4427.001470834657\n",
            "24084.427764493917\n",
            "580059660.7431256\n"
          ],
          "name": "stdout"
        }
      ]
    },
    {
      "cell_type": "code",
      "metadata": {
        "id": "2yXT0EMnf9Dg",
        "colab": {
          "base_uri": "https://localhost:8080/",
          "height": 68
        },
        "outputId": "7176736a-049c-4e34-fd59-6122ba48aabe"
      },
      "source": [
        "# Support Vector Regression\n",
        "\n",
        "svr = SVR()\n",
        "model4 = svr.fit(x_train, y_train)\n",
        "\n",
        "y_pred_svr = model4.predict(x_test)\n",
        "\n",
        "\n",
        "print(metrics.mean_absolute_error(y_test,y_pred_svr))\n",
        "print(np.sqrt(metrics.mean_squared_error(y_test,y_pred_svr)))\n",
        "print(metrics.mean_squared_error(y_test,y_pred_svr))"
      ],
      "execution_count": null,
      "outputs": [
        {
          "output_type": "stream",
          "text": [
            "1755.9664630116679\n",
            "23642.07402851456\n",
            "558947664.3697627\n"
          ],
          "name": "stdout"
        }
      ]
    },
    {
      "cell_type": "code",
      "metadata": {
        "id": "2yQevcSloubl",
        "colab": {
          "base_uri": "https://localhost:8080/",
          "height": 1000
        },
        "outputId": "76ab89bd-7bcd-47f1-bb86-dafb528f01ef"
      },
      "source": [
        "ann = keras.models.Sequential([\n",
        "                              Dense(10, activation='relu', input_shape =  x_train.shape[1:]),\n",
        "                              Dense(10, activation='relu'),\n",
        "                              Dense(1) ])\n",
        "Op = keras.optimizers.Adam()\n",
        "L = keras.losses.mean_squared_error\n",
        "ann.compile(optimizer = Op, loss = L, metrics = ['mean_squared_error'])\n",
        "\n",
        "history = ann.fit(x_train,y_train, epochs = 100)"
      ],
      "execution_count": null,
      "outputs": [
        {
          "output_type": "stream",
          "text": [
            "Epoch 1/100\n",
            "412/412 [==============================] - 0s 977us/step - loss: 614906176.0000 - mean_squared_error: 614906176.0000\n",
            "Epoch 2/100\n",
            "412/412 [==============================] - 0s 971us/step - loss: 614880000.0000 - mean_squared_error: 614880000.0000\n",
            "Epoch 3/100\n",
            "412/412 [==============================] - 0s 1ms/step - loss: 614806976.0000 - mean_squared_error: 614806976.0000\n",
            "Epoch 4/100\n",
            "412/412 [==============================] - 0s 954us/step - loss: 614683072.0000 - mean_squared_error: 614683072.0000\n",
            "Epoch 5/100\n",
            "412/412 [==============================] - 0s 943us/step - loss: 614510400.0000 - mean_squared_error: 614510400.0000\n",
            "Epoch 6/100\n",
            "412/412 [==============================] - 0s 982us/step - loss: 614307520.0000 - mean_squared_error: 614307520.0000\n",
            "Epoch 7/100\n",
            "412/412 [==============================] - 0s 940us/step - loss: 614067712.0000 - mean_squared_error: 614067712.0000\n",
            "Epoch 8/100\n",
            "412/412 [==============================] - 0s 949us/step - loss: 613817024.0000 - mean_squared_error: 613817024.0000\n",
            "Epoch 9/100\n",
            "412/412 [==============================] - 0s 1ms/step - loss: 613570432.0000 - mean_squared_error: 613570432.0000\n",
            "Epoch 10/100\n",
            "412/412 [==============================] - 0s 950us/step - loss: 613341696.0000 - mean_squared_error: 613341696.0000\n",
            "Epoch 11/100\n",
            "412/412 [==============================] - 0s 964us/step - loss: 613121536.0000 - mean_squared_error: 613121536.0000\n",
            "Epoch 12/100\n",
            "412/412 [==============================] - 0s 978us/step - loss: 612928512.0000 - mean_squared_error: 612928512.0000\n",
            "Epoch 13/100\n",
            "412/412 [==============================] - 0s 980us/step - loss: 612761408.0000 - mean_squared_error: 612761408.0000\n",
            "Epoch 14/100\n",
            "412/412 [==============================] - 0s 965us/step - loss: 612619136.0000 - mean_squared_error: 612619136.0000\n",
            "Epoch 15/100\n",
            "412/412 [==============================] - 0s 966us/step - loss: 612499200.0000 - mean_squared_error: 612499200.0000\n",
            "Epoch 16/100\n",
            "412/412 [==============================] - 0s 957us/step - loss: 612398464.0000 - mean_squared_error: 612398464.0000\n",
            "Epoch 17/100\n",
            "412/412 [==============================] - 0s 1ms/step - loss: 612314112.0000 - mean_squared_error: 612314112.0000\n",
            "Epoch 18/100\n",
            "412/412 [==============================] - 0s 956us/step - loss: 612243264.0000 - mean_squared_error: 612243264.0000\n",
            "Epoch 19/100\n",
            "412/412 [==============================] - 0s 978us/step - loss: 612188032.0000 - mean_squared_error: 612188032.0000\n",
            "Epoch 20/100\n",
            "412/412 [==============================] - 0s 982us/step - loss: 612142464.0000 - mean_squared_error: 612142464.0000\n",
            "Epoch 21/100\n",
            "412/412 [==============================] - 0s 977us/step - loss: 612098752.0000 - mean_squared_error: 612098752.0000\n",
            "Epoch 22/100\n",
            "412/412 [==============================] - 0s 997us/step - loss: 612064000.0000 - mean_squared_error: 612064000.0000\n",
            "Epoch 23/100\n",
            "412/412 [==============================] - 0s 1ms/step - loss: 612034880.0000 - mean_squared_error: 612034880.0000\n",
            "Epoch 24/100\n",
            "412/412 [==============================] - 0s 961us/step - loss: 612004928.0000 - mean_squared_error: 612004928.0000\n",
            "Epoch 25/100\n",
            "412/412 [==============================] - 0s 969us/step - loss: 611983488.0000 - mean_squared_error: 611983488.0000\n",
            "Epoch 26/100\n",
            "412/412 [==============================] - 0s 1ms/step - loss: 611959232.0000 - mean_squared_error: 611959232.0000\n",
            "Epoch 27/100\n",
            "412/412 [==============================] - 0s 949us/step - loss: 611941184.0000 - mean_squared_error: 611941184.0000\n",
            "Epoch 28/100\n",
            "412/412 [==============================] - 0s 1ms/step - loss: 611919040.0000 - mean_squared_error: 611919040.0000\n",
            "Epoch 29/100\n",
            "412/412 [==============================] - 0s 954us/step - loss: 611897280.0000 - mean_squared_error: 611897280.0000\n",
            "Epoch 30/100\n",
            "412/412 [==============================] - 0s 970us/step - loss: 611880000.0000 - mean_squared_error: 611880000.0000\n",
            "Epoch 31/100\n",
            "412/412 [==============================] - 0s 972us/step - loss: 611859712.0000 - mean_squared_error: 611859712.0000\n",
            "Epoch 32/100\n",
            "412/412 [==============================] - 0s 962us/step - loss: 611845120.0000 - mean_squared_error: 611845120.0000\n",
            "Epoch 33/100\n",
            "412/412 [==============================] - 0s 1ms/step - loss: 611821760.0000 - mean_squared_error: 611821760.0000\n",
            "Epoch 34/100\n",
            "412/412 [==============================] - 0s 963us/step - loss: 611802688.0000 - mean_squared_error: 611802688.0000\n",
            "Epoch 35/100\n",
            "412/412 [==============================] - 0s 958us/step - loss: 611785152.0000 - mean_squared_error: 611785152.0000\n",
            "Epoch 36/100\n",
            "412/412 [==============================] - 0s 966us/step - loss: 611765376.0000 - mean_squared_error: 611765376.0000\n",
            "Epoch 37/100\n",
            "412/412 [==============================] - 0s 965us/step - loss: 611747456.0000 - mean_squared_error: 611747456.0000\n",
            "Epoch 38/100\n",
            "412/412 [==============================] - 0s 1ms/step - loss: 611727296.0000 - mean_squared_error: 611727296.0000\n",
            "Epoch 39/100\n",
            "412/412 [==============================] - 0s 983us/step - loss: 611709376.0000 - mean_squared_error: 611709376.0000\n",
            "Epoch 40/100\n",
            "412/412 [==============================] - 0s 950us/step - loss: 611687488.0000 - mean_squared_error: 611687488.0000\n",
            "Epoch 41/100\n",
            "412/412 [==============================] - 0s 1ms/step - loss: 611667072.0000 - mean_squared_error: 611667072.0000\n",
            "Epoch 42/100\n",
            "412/412 [==============================] - 0s 1ms/step - loss: 611651264.0000 - mean_squared_error: 611651264.0000\n",
            "Epoch 43/100\n",
            "412/412 [==============================] - 0s 1ms/step - loss: 611628928.0000 - mean_squared_error: 611628928.0000\n",
            "Epoch 44/100\n",
            "412/412 [==============================] - 0s 960us/step - loss: 611611136.0000 - mean_squared_error: 611611136.0000\n",
            "Epoch 45/100\n",
            "412/412 [==============================] - 0s 993us/step - loss: 611591360.0000 - mean_squared_error: 611591360.0000\n",
            "Epoch 46/100\n",
            "412/412 [==============================] - 0s 974us/step - loss: 611570880.0000 - mean_squared_error: 611570880.0000\n",
            "Epoch 47/100\n",
            "412/412 [==============================] - 0s 971us/step - loss: 611549888.0000 - mean_squared_error: 611549888.0000\n",
            "Epoch 48/100\n",
            "412/412 [==============================] - 0s 1ms/step - loss: 611535296.0000 - mean_squared_error: 611535296.0000\n",
            "Epoch 49/100\n",
            "412/412 [==============================] - 0s 975us/step - loss: 611510016.0000 - mean_squared_error: 611510016.0000\n",
            "Epoch 50/100\n",
            "412/412 [==============================] - 0s 976us/step - loss: 611493952.0000 - mean_squared_error: 611493952.0000\n",
            "Epoch 51/100\n",
            "412/412 [==============================] - 0s 978us/step - loss: 611468544.0000 - mean_squared_error: 611468544.0000\n",
            "Epoch 52/100\n",
            "412/412 [==============================] - 0s 970us/step - loss: 611451840.0000 - mean_squared_error: 611451840.0000\n",
            "Epoch 53/100\n",
            "412/412 [==============================] - 0s 960us/step - loss: 611431744.0000 - mean_squared_error: 611431744.0000\n",
            "Epoch 54/100\n",
            "412/412 [==============================] - 0s 971us/step - loss: 611410176.0000 - mean_squared_error: 611410176.0000\n",
            "Epoch 55/100\n",
            "412/412 [==============================] - 0s 1ms/step - loss: 611385792.0000 - mean_squared_error: 611385792.0000\n",
            "Epoch 56/100\n",
            "412/412 [==============================] - 0s 954us/step - loss: 611368832.0000 - mean_squared_error: 611368832.0000\n",
            "Epoch 57/100\n",
            "412/412 [==============================] - 0s 993us/step - loss: 611347584.0000 - mean_squared_error: 611347584.0000\n",
            "Epoch 58/100\n",
            "412/412 [==============================] - 0s 974us/step - loss: 611326080.0000 - mean_squared_error: 611326080.0000\n",
            "Epoch 59/100\n",
            "412/412 [==============================] - 0s 964us/step - loss: 611307648.0000 - mean_squared_error: 611307648.0000\n",
            "Epoch 60/100\n",
            "412/412 [==============================] - 0s 1ms/step - loss: 611287808.0000 - mean_squared_error: 611287808.0000\n",
            "Epoch 61/100\n",
            "412/412 [==============================] - 0s 1ms/step - loss: 611266304.0000 - mean_squared_error: 611266304.0000\n",
            "Epoch 62/100\n",
            "412/412 [==============================] - 0s 1ms/step - loss: 611247168.0000 - mean_squared_error: 611247168.0000\n",
            "Epoch 63/100\n",
            "412/412 [==============================] - 0s 972us/step - loss: 611230912.0000 - mean_squared_error: 611230912.0000\n",
            "Epoch 64/100\n",
            "412/412 [==============================] - 0s 977us/step - loss: 611206208.0000 - mean_squared_error: 611206208.0000\n",
            "Epoch 65/100\n",
            "412/412 [==============================] - 0s 1ms/step - loss: 611191232.0000 - mean_squared_error: 611191232.0000\n",
            "Epoch 66/100\n",
            "412/412 [==============================] - 0s 964us/step - loss: 611163968.0000 - mean_squared_error: 611163968.0000\n",
            "Epoch 67/100\n",
            "412/412 [==============================] - 0s 982us/step - loss: 611142272.0000 - mean_squared_error: 611142272.0000\n",
            "Epoch 68/100\n",
            "412/412 [==============================] - 0s 1ms/step - loss: 611123392.0000 - mean_squared_error: 611123392.0000\n",
            "Epoch 69/100\n",
            "412/412 [==============================] - 0s 1ms/step - loss: 611100608.0000 - mean_squared_error: 611100608.0000\n",
            "Epoch 70/100\n",
            "412/412 [==============================] - 0s 1ms/step - loss: 611077824.0000 - mean_squared_error: 611077824.0000\n",
            "Epoch 71/100\n",
            "412/412 [==============================] - 0s 983us/step - loss: 611062464.0000 - mean_squared_error: 611062464.0000\n",
            "Epoch 72/100\n",
            "412/412 [==============================] - 0s 1ms/step - loss: 611047488.0000 - mean_squared_error: 611047488.0000\n",
            "Epoch 73/100\n",
            "412/412 [==============================] - 0s 1ms/step - loss: 611022016.0000 - mean_squared_error: 611022016.0000\n",
            "Epoch 74/100\n",
            "412/412 [==============================] - 0s 968us/step - loss: 611001856.0000 - mean_squared_error: 611001856.0000\n",
            "Epoch 75/100\n",
            "412/412 [==============================] - 0s 1ms/step - loss: 610982272.0000 - mean_squared_error: 610982272.0000\n",
            "Epoch 76/100\n",
            "412/412 [==============================] - 0s 998us/step - loss: 610967360.0000 - mean_squared_error: 610967360.0000\n",
            "Epoch 77/100\n",
            "412/412 [==============================] - 0s 962us/step - loss: 610948288.0000 - mean_squared_error: 610948288.0000\n",
            "Epoch 78/100\n",
            "412/412 [==============================] - 0s 995us/step - loss: 610924864.0000 - mean_squared_error: 610924864.0000\n",
            "Epoch 79/100\n",
            "412/412 [==============================] - 0s 965us/step - loss: 610907008.0000 - mean_squared_error: 610907008.0000\n",
            "Epoch 80/100\n",
            "412/412 [==============================] - 0s 1ms/step - loss: 610887936.0000 - mean_squared_error: 610887936.0000\n",
            "Epoch 81/100\n",
            "412/412 [==============================] - 0s 990us/step - loss: 610868032.0000 - mean_squared_error: 610868032.0000\n",
            "Epoch 82/100\n",
            "412/412 [==============================] - 0s 999us/step - loss: 610852352.0000 - mean_squared_error: 610852352.0000\n",
            "Epoch 83/100\n",
            "412/412 [==============================] - 0s 998us/step - loss: 610833472.0000 - mean_squared_error: 610833472.0000\n",
            "Epoch 84/100\n",
            "412/412 [==============================] - 0s 1ms/step - loss: 610813376.0000 - mean_squared_error: 610813376.0000\n",
            "Epoch 85/100\n",
            "412/412 [==============================] - 0s 1ms/step - loss: 610795968.0000 - mean_squared_error: 610795968.0000\n",
            "Epoch 86/100\n",
            "412/412 [==============================] - 0s 981us/step - loss: 610777792.0000 - mean_squared_error: 610777792.0000\n",
            "Epoch 87/100\n",
            "412/412 [==============================] - 0s 1ms/step - loss: 610759744.0000 - mean_squared_error: 610759744.0000\n",
            "Epoch 88/100\n",
            "412/412 [==============================] - 0s 975us/step - loss: 610742464.0000 - mean_squared_error: 610742464.0000\n",
            "Epoch 89/100\n",
            "412/412 [==============================] - 0s 958us/step - loss: 610729024.0000 - mean_squared_error: 610729024.0000\n",
            "Epoch 90/100\n",
            "412/412 [==============================] - 0s 1ms/step - loss: 610704192.0000 - mean_squared_error: 610704192.0000\n",
            "Epoch 91/100\n",
            "412/412 [==============================] - 0s 1ms/step - loss: 610693056.0000 - mean_squared_error: 610693056.0000\n",
            "Epoch 92/100\n",
            "412/412 [==============================] - 0s 978us/step - loss: 610679232.0000 - mean_squared_error: 610679232.0000\n",
            "Epoch 93/100\n",
            "412/412 [==============================] - 0s 960us/step - loss: 610660672.0000 - mean_squared_error: 610660672.0000\n",
            "Epoch 94/100\n",
            "412/412 [==============================] - 0s 998us/step - loss: 610645632.0000 - mean_squared_error: 610645632.0000\n",
            "Epoch 95/100\n",
            "412/412 [==============================] - 0s 1ms/step - loss: 610626944.0000 - mean_squared_error: 610626944.0000\n",
            "Epoch 96/100\n",
            "412/412 [==============================] - 0s 968us/step - loss: 610604928.0000 - mean_squared_error: 610604928.0000\n",
            "Epoch 97/100\n",
            "412/412 [==============================] - 0s 1ms/step - loss: 610591168.0000 - mean_squared_error: 610591168.0000\n",
            "Epoch 98/100\n",
            "412/412 [==============================] - 0s 1ms/step - loss: 610573952.0000 - mean_squared_error: 610573952.0000\n",
            "Epoch 99/100\n",
            "412/412 [==============================] - 0s 1ms/step - loss: 610563840.0000 - mean_squared_error: 610563840.0000\n",
            "Epoch 100/100\n",
            "412/412 [==============================] - 0s 1ms/step - loss: 610539712.0000 - mean_squared_error: 610539712.0000\n"
          ],
          "name": "stdout"
        }
      ]
    },
    {
      "cell_type": "code",
      "metadata": {
        "id": "uv_w54o8vg44",
        "colab": {
          "base_uri": "https://localhost:8080/",
          "height": 255
        },
        "outputId": "feee8673-bc92-4897-f7f9-685d887ea505"
      },
      "source": [
        "ann.summary()"
      ],
      "execution_count": null,
      "outputs": [
        {
          "output_type": "stream",
          "text": [
            "Model: \"sequential\"\n",
            "_________________________________________________________________\n",
            "Layer (type)                 Output Shape              Param #   \n",
            "=================================================================\n",
            "dense (Dense)                (None, 10)                80        \n",
            "_________________________________________________________________\n",
            "dense_1 (Dense)              (None, 10)                110       \n",
            "_________________________________________________________________\n",
            "dense_2 (Dense)              (None, 1)                 11        \n",
            "=================================================================\n",
            "Total params: 201\n",
            "Trainable params: 201\n",
            "Non-trainable params: 0\n",
            "_________________________________________________________________\n"
          ],
          "name": "stdout"
        }
      ]
    },
    {
      "cell_type": "code",
      "metadata": {
        "id": "_W2VmEABv1ai",
        "colab": {
          "base_uri": "https://localhost:8080/",
          "height": 68
        },
        "outputId": "a5daf1f2-b3f0-47cc-fbc6-e16fa043eb6c"
      },
      "source": [
        "y_pred_ann = ann.predict(x_test)\n",
        "\n",
        "print(metrics.mean_absolute_error(y_test,y_pred_ann))\n",
        "print(np.sqrt(metrics.mean_squared_error(y_test,y_pred_ann)))\n",
        "print(metrics.mean_squared_error(y_test,y_pred_ann))"
      ],
      "execution_count": null,
      "outputs": [
        {
          "output_type": "stream",
          "text": [
            "3012.3756731984718\n",
            "23527.00097682896\n",
            "553519774.9637108\n"
          ],
          "name": "stdout"
        }
      ]
    },
    {
      "cell_type": "code",
      "metadata": {
        "id": "tBw4-rsozP13",
        "colab": {
          "base_uri": "https://localhost:8080/",
          "height": 419
        },
        "outputId": "9cf16ae8-94b1-4708-dab8-1f57dbae11c3"
      },
      "source": [
        "df = pd.DataFrame({'Actual': y_test,'Predicted': y_pred_svr})\n",
        "df"
      ],
      "execution_count": null,
      "outputs": [
        {
          "output_type": "execute_result",
          "data": {
            "text/html": [
              "<div>\n",
              "<style scoped>\n",
              "    .dataframe tbody tr th:only-of-type {\n",
              "        vertical-align: middle;\n",
              "    }\n",
              "\n",
              "    .dataframe tbody tr th {\n",
              "        vertical-align: top;\n",
              "    }\n",
              "\n",
              "    .dataframe thead th {\n",
              "        text-align: right;\n",
              "    }\n",
              "</style>\n",
              "<table border=\"1\" class=\"dataframe\">\n",
              "  <thead>\n",
              "    <tr style=\"text-align: right;\">\n",
              "      <th></th>\n",
              "      <th>Actual</th>\n",
              "      <th>Predicted</th>\n",
              "    </tr>\n",
              "  </thead>\n",
              "  <tbody>\n",
              "    <tr>\n",
              "      <th>0</th>\n",
              "      <td>8</td>\n",
              "      <td>1.840823</td>\n",
              "    </tr>\n",
              "    <tr>\n",
              "      <th>1</th>\n",
              "      <td>2</td>\n",
              "      <td>1.996277</td>\n",
              "    </tr>\n",
              "    <tr>\n",
              "      <th>2</th>\n",
              "      <td>1</td>\n",
              "      <td>1.811053</td>\n",
              "    </tr>\n",
              "    <tr>\n",
              "      <th>3</th>\n",
              "      <td>2</td>\n",
              "      <td>1.732945</td>\n",
              "    </tr>\n",
              "    <tr>\n",
              "      <th>4</th>\n",
              "      <td>1</td>\n",
              "      <td>1.688266</td>\n",
              "    </tr>\n",
              "    <tr>\n",
              "      <th>...</th>\n",
              "      <td>...</td>\n",
              "      <td>...</td>\n",
              "    </tr>\n",
              "    <tr>\n",
              "      <th>1459</th>\n",
              "      <td>1</td>\n",
              "      <td>1.447895</td>\n",
              "    </tr>\n",
              "    <tr>\n",
              "      <th>1460</th>\n",
              "      <td>13</td>\n",
              "      <td>3.488701</td>\n",
              "    </tr>\n",
              "    <tr>\n",
              "      <th>1461</th>\n",
              "      <td>6</td>\n",
              "      <td>2.285082</td>\n",
              "    </tr>\n",
              "    <tr>\n",
              "      <th>1462</th>\n",
              "      <td>18</td>\n",
              "      <td>1.655989</td>\n",
              "    </tr>\n",
              "    <tr>\n",
              "      <th>1463</th>\n",
              "      <td>37</td>\n",
              "      <td>10.154994</td>\n",
              "    </tr>\n",
              "  </tbody>\n",
              "</table>\n",
              "<p>1464 rows × 2 columns</p>\n",
              "</div>"
            ],
            "text/plain": [
              "      Actual  Predicted\n",
              "0          8   1.840823\n",
              "1          2   1.996277\n",
              "2          1   1.811053\n",
              "3          2   1.732945\n",
              "4          1   1.688266\n",
              "...      ...        ...\n",
              "1459       1   1.447895\n",
              "1460      13   3.488701\n",
              "1461       6   2.285082\n",
              "1462      18   1.655989\n",
              "1463      37  10.154994\n",
              "\n",
              "[1464 rows x 2 columns]"
            ]
          },
          "metadata": {
            "tags": []
          },
          "execution_count": 30
        }
      ]
    },
    {
      "cell_type": "code",
      "metadata": {
        "id": "wbWuA7894dNh",
        "colab": {
          "base_uri": "https://localhost:8080/",
          "height": 34
        },
        "outputId": "66ed1b11-dcff-4eb4-fa59-e43c45001955"
      },
      "source": [
        "#Saving the dataframe\n",
        "\n",
        "import joblib\n",
        "\n",
        "joblib.dump(svr, \"supportvector_youtubeadviewprediction.pkl\")"
      ],
      "execution_count": null,
      "outputs": [
        {
          "output_type": "execute_result",
          "data": {
            "text/plain": [
              "['supportvector_youtubeadviewprediction.pkl']"
            ]
          },
          "metadata": {
            "tags": []
          },
          "execution_count": 31
        }
      ]
    },
    {
      "cell_type": "code",
      "metadata": {
        "id": "mgMa3aA_pvRZ"
      },
      "source": [
        "df.to_csv('Predictions.csv')\n",
        "\n"
      ],
      "execution_count": null,
      "outputs": []
    }
  ]
}